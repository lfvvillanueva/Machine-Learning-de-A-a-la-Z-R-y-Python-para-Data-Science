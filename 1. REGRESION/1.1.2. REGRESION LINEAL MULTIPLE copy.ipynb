{
 "cells": [
  {
   "cell_type": "code",
   "execution_count": 6,
   "metadata": {},
   "outputs": [],
   "source": [
    "import numpy as np\n",
    "import pandas as pd\n",
    "import matplotlib.pyplot as plt\n",
    "from sklearn.linear_model import LinearRegression\n",
    "from sklearn.metrics import mean_squared_error, r2_score\n",
    "from sklearn.model_selection import train_test_split\n",
    "from sklearn.preprocessing import OneHotEncoder\n",
    "from sklearn.compose import ColumnTransformer\n",
    "from sklearn.pipeline import Pipeline\n",
    "\n",
    "# Crear un conjunto de datos de ejemplo\n",
    "data = {\n",
    "    'edad': [25, 30, 35, 40, 45, 50, 55, 60, 65, 70],\n",
    "    'género': ['hombre', 'mujer', 'hombre', 'mujer', 'hombre', 'mujer', 'hombre', 'mujer', 'hombre', 'mujer'],\n",
    "    'salario': [50000, 54000, 58000, 62000, 66000, 70000, 74000, 78000, 82000, 86000]\n",
    "}\n",
    "df = pd.DataFrame(data)\n",
    "\n"
   ]
  },
  {
   "cell_type": "code",
   "execution_count": 2,
   "metadata": {},
   "outputs": [],
   "source": [
    "# Definir las variables independientes y dependiente\n",
    "X = df[['edad', 'género']]\n",
    "y = df['salario']\n",
    "\n",
    "# Crear un transformador de columnas para aplicar OneHotEncoding a la variable categórica\n",
    "column_transformer = ColumnTransformer(\n",
    "    [('category', OneHotEncoder(), ['género'])],\n",
    "    remainder='passthrough')\n",
    "\n",
    "# Crear un pipeline que incluye el transformador y el modelo de regresión lineal\n",
    "pipeline = Pipeline(steps=[\n",
    "    ('preprocessor', column_transformer),\n",
    "    ('regressor', LinearRegression())\n",
    "])\n",
    "\n",
    "# Dividir los datos en conjuntos de entrenamiento y prueba\n",
    "X_train, X_test, y_train, y_test = train_test_split(X, y, test_size=0.2, random_state=42)"
   ]
  },
  {
   "cell_type": "code",
   "execution_count": 3,
   "metadata": {},
   "outputs": [
    {
     "name": "stdout",
     "output_type": "stream",
     "text": [
      "MSE: 0.00\n",
      "R^2: 1.00\n"
     ]
    },
    {
     "data": {
      "image/png": "[encoded data removed]",
      "text/plain": [
       "<Figure size 576x288 with 1 Axes>"
      ]
     },
     "metadata": {
      "needs_background": "light"
     },
     "output_type": "display_data"
    }
   ],
   "source": [
    "# Ajustar el modelo\n",
    "pipeline.fit(X_train, y_train)\n",
    "\n",
    "# Realizar predicciones\n",
    "y_pred = pipeline.predict(X_test)\n",
    "\n",
    "# Calcular y mostrar las métricas\n",
    "mse = mean_squared_error(y_test, y_pred)\n",
    "r2 = r2_score(y_test, y_pred)\n",
    "print(f\"MSE: {mse:.2f}\")\n",
    "print(f\"R^2: {r2:.2f}\")\n",
    "\n",
    "# Gráfica de valores reales vs. predichos\n",
    "plt.figure(figsize=(8, 4))\n",
    "plt.scatter(y_test, y_pred, color='blue')\n",
    "plt.plot([y.min(), y.max()], [y.min(), y.max()], 'k--', lw=2)\n",
    "plt.xlabel('Valores Reales')\n",
    "plt.ylabel('Valores Predichos')\n",
    "plt.title('Valores Reales vs. Valores Predichos')\n",
    "plt.show()"
   ]
  },
  {
   "cell_type": "code",
   "execution_count": 4,
   "metadata": {},
   "outputs": [
    {
     "name": "stdout",
     "output_type": "stream",
     "text": [
      "Coeficientes: [ 3.59908689e-12 -3.86535248e-12  8.00000000e+02]\n",
      "Intercepto: 29999.999999999993\n"
     ]
    }
   ],
   "source": [
    "# Asumiendo que el modelo ha sido ajustado como se mostró en el ejemplo anterior\n",
    "coefs = pipeline.named_steps['regressor'].coef_\n",
    "intercept = pipeline.named_steps['regressor'].intercept_\n",
    "\n",
    "# Imprimir los coeficientes y el intercepto\n",
    "print(\"Coeficientes:\", coefs)\n",
    "print(\"Intercepto:\", intercept)\n"
   ]
  },
  {
   "cell_type": "code",
   "execution_count": 5,
   "metadata": {},
   "outputs": [
    {
     "name": "stdout",
     "output_type": "stream",
     "text": [
      "Intercepto (29999.999999999993): Es el salario estimado cuando la edad es 0 y el género no está especificado (o es la categoría base).\n",
      "Coeficiente para 'hombre' (3.5990868903021547e-12): Indica que el salario aumentará en $0.00 sobre la base del intercepto si el individuo es hombre, asumiendo que la edad es cero.\n",
      "Coeficiente para 'mujer' (-3.865352482534945e-12): Indica que el salario aumentará en $-0.00 sobre la base del intercepto si el individuo es mujer, asumiendo que la edad es cero.\n",
      "Coeficiente para 'edad' (800.0000000000001): Por cada año adicional de edad, se espera que el salario aumente en $800.00, independientemente del género.\n"
     ]
    }
   ],
   "source": [
    "# Asumiendo que el modelo ha sido ajustado como se mostró en el ejemplo anterior\n",
    "coefs = pipeline.named_steps['regressor'].coef_\n",
    "intercept = pipeline.named_steps['regressor'].intercept_\n",
    "\n",
    "# Obteniendo nombres de las características después del OneHotEncoder\n",
    "# Asegúrate de usar get_feature_names_out() si estás usando scikit-learn 0.23 o superior\n",
    "feature_names = (pipeline.named_steps['preprocessor']\n",
    "                 .named_transformers_['category']\n",
    "                 .get_feature_names_out(['género']))  # Modificado para usar get_feature_names_out()\n",
    "\n",
    "# Agregamos los nombres de las características numéricas\n",
    "feature_names = np.concatenate([feature_names, ['edad']])\n",
    "\n",
    "# Imprimir el intercepto y los coeficientes con su interpretación\n",
    "print(f\"Intercepto ({intercept}): Es el salario estimado cuando la edad es 0 y el género no está especificado (o es la categoría base).\")\n",
    "\n",
    "# Iterar sobre los nombres y coeficientes de las características para imprimir su interpretación\n",
    "for name, coef in zip(feature_names, coefs):\n",
    "    if 'género' in name:\n",
    "        gender = name.split('_')[-1]\n",
    "        print(f\"Coeficiente para '{gender}' ({coef}): Indica que el salario aumentará en ${coef:.2f} sobre la base del intercepto si el individuo es {gender}, asumiendo que la edad es cero.\")\n",
    "    else:\n",
    "        print(f\"Coeficiente para '{name}' ({coef}): Por cada año adicional de edad, se espera que el salario aumente en ${coef:.2f}, independientemente del género.\")\n",
    "\n"
   ]
  }
 ],
 "metadata": {
  "kernelspec": {
   "display_name": "Python 3",
   "language": "python",
   "name": "python3"
  },
  "language_info": {
   "codemirror_mode": {
    "name": "ipython",
    "version": 3
   },
   "file_extension": ".py",
   "mimetype": "text/x-python",
   "name": "python",
   "nbconvert_exporter": "python",
   "pygments_lexer": "ipython3",
   "version": "3.10.5"
  }
 },
 "nbformat": 4,
 "nbformat_minor": 2
}
